{
 "cells": [
  {
   "cell_type": "code",
   "execution_count": 17,
   "metadata": {},
   "outputs": [],
   "source": [
    "import pandas as pd\n",
    "from sklearn.tree import DecisionTreeClassifier\n",
    "from sklearn import tree\n",
    "from matplotlib import pyplot as plt\n",
    "from sklearn import metrics\n",
    "%matplotlib inline"
   ]
  },
  {
   "cell_type": "markdown",
   "metadata": {},
   "source": [
    "Lendo arquivo CSV"
   ]
  },
  {
   "cell_type": "code",
   "execution_count": 18,
   "metadata": {},
   "outputs": [
    {
     "name": "stdout",
     "output_type": "stream",
     "text": [
      "  montante   idade salario tem_conta empresta\n",
      "0    Medio  Senior   Baixo       Sim      Nao\n",
      "1    Medio  Senior   Baixo       Nao      Nao\n",
      "2    Baixo  Senior   Baixo       Sim      Sim\n",
      "3     Alto   Media   Baixo       Sim      Sim\n",
      "4     Alto   Jovem    Alto       Sim      Sim\n"
     ]
    }
   ],
   "source": [
    "df = pd.read_csv('emprestimo.csv', sep=';')\n",
    "print(df.head())"
   ]
  },
  {
   "cell_type": "markdown",
   "metadata": {},
   "source": [
    "Nomeando dados"
   ]
  },
  {
   "cell_type": "code",
   "execution_count": 19,
   "metadata": {},
   "outputs": [
    {
     "name": "stdout",
     "output_type": "stream",
     "text": [
      "   montante  idade  salario  tem_conta  empresta\n",
      "0         1      2        0          1         0\n",
      "1         1      2        0          0         0\n",
      "2         0      2        0          1         1\n",
      "3         2      1        0          1         1\n",
      "4         2      0        1          1         1\n"
     ]
    }
   ],
   "source": [
    "translate = {\n",
    "    'montante': { 'Alto': 2, 'Medio': 1, 'Baixo': 0 },\n",
    "    'idade': { 'Senior': 2, 'Media': 1, 'Jovem': 0 },\n",
    "    'salario': { 'Alto': 1, 'Baixo': 0 },\n",
    "    'tem_conta': { 'Sim': 1, 'Nao': 0 },\n",
    "    'empresta': { 'Sim': 1, 'Nao': 0 }\n",
    "}\n",
    "\n",
    "for col in df:\n",
    "    df[col] = df[col].apply(lambda k: translate[col][k])\n",
    "print(df.head())\n",
    "#o codigo não pode ser rodado 2x."
   ]
  },
  {
   "cell_type": "markdown",
   "metadata": {},
   "source": [
    "Definindo Variaveis e resultados"
   ]
  },
  {
   "cell_type": "code",
   "execution_count": 20,
   "metadata": {},
   "outputs": [
    {
     "name": "stdout",
     "output_type": "stream",
     "text": [
      "0    0\n",
      "1    0\n",
      "2    1\n",
      "3    1\n",
      "4    1\n",
      "Name: empresta, dtype: int64\n"
     ]
    }
   ],
   "source": [
    "x = df[['montante', 'idade', 'salario', 'tem_conta']]\n",
    "y = df['empresta']\n",
    "print(y.head())"
   ]
  },
  {
   "cell_type": "markdown",
   "metadata": {},
   "source": [
    "Importando Train test split"
   ]
  },
  {
   "cell_type": "code",
   "execution_count": 21,
   "metadata": {},
   "outputs": [],
   "source": [
    "from sklearn.model_selection import train_test_split\n",
    "ttp = train_test_split"
   ]
  },
  {
   "cell_type": "markdown",
   "metadata": {},
   "source": [
    "Definindo SEED"
   ]
  },
  {
   "cell_type": "code",
   "execution_count": 22,
   "metadata": {},
   "outputs": [],
   "source": [
    "SEED = 7"
   ]
  },
  {
   "cell_type": "markdown",
   "metadata": {},
   "source": [
    "Separando casos de testes e treino"
   ]
  },
  {
   "cell_type": "code",
   "execution_count": 23,
   "metadata": {},
   "outputs": [
    {
     "name": "stdout",
     "output_type": "stream",
     "text": [
      "(7, 4)\n",
      "(7,)\n"
     ]
    }
   ],
   "source": [
    "treino_x, teste_x, treino_y, teste_y = ttp(x, y, random_state=SEED, test_size=0.5, stratify= y )\n",
    "print(teste_x.shape)\n",
    "print(teste_y.shape)"
   ]
  },
  {
   "cell_type": "code",
   "execution_count": 24,
   "metadata": {},
   "outputs": [],
   "source": [
    "from dataclasses import dataclass\n",
    "@dataclass(frozen=True)\n",
    "class ModelResult:\n",
    "    n: int\n",
    "    clf: DecisionTreeClassifier\n",
    "    acc: float"
   ]
  },
  {
   "cell_type": "code",
   "execution_count": 25,
   "metadata": {},
   "outputs": [
    {
     "name": "stdout",
     "output_type": "stream",
     "text": [
      "(1, 0.5714285714285714) (2, 0.42857142857142855) (3, 0.42857142857142855)\n"
     ]
    }
   ],
   "source": [
    "def tree_model(max_depth: int):\n",
    "    # clf = DecisionTreeClassifier(max_depth=max_depth, random_state=42) # usa \"gini\" como padrão\n",
    "    # constrói o modelo usando critério “Entropia” e max_depth variável\n",
    "    clf = DecisionTreeClassifier(max_depth=max_depth, criterion='entropy', random_state=42) \n",
    "    \n",
    "    # treina o modelo – observe que nessa abordagem está usando 33% para testes (ver acima!)\n",
    "    # (sem separação)\n",
    "    clf.fit(treino_x, treino_y)\n",
    "\n",
    "    # aplica o modelo e mede acurácia\n",
    "    pred_y = clf.predict(teste_x)\n",
    "    acc = metrics.accuracy_score(teste_y, pred_y)\n",
    "    return ModelResult(acc=acc, clf=clf, n=max_depth)\n",
    "\n",
    "# mostra resultados de acurácil para cada modelo gerado por tree_model\n",
    "results = {n: tree_model(n) for n in range(1,4)}\n",
    "print(*[(n, r.acc) for n, r in results.items()])"
   ]
  },
  {
   "cell_type": "markdown",
   "metadata": {},
   "source": [
    "Plotagem"
   ]
  },
  {
   "cell_type": "code",
   "execution_count": 26,
   "metadata": {},
   "outputs": [
    {
     "name": "stdout",
     "output_type": "stream",
     "text": [
      "Index(['montante', 'idade', 'salario', 'tem_conta'], dtype='object') ['1' '0']\n"
     ]
    },
    {
     "data": {
      "text/plain": [
       "[Text(0.4, 0.8333333333333334, 'salario <= 0.5\\nentropy = 0.985\\nsamples = 7\\nvalue = [3, 4]\\nclass = 0'),\n",
       " Text(0.2, 0.5, 'entropy = 0.0\\nsamples = 2\\nvalue = [2, 0]\\nclass = 1'),\n",
       " Text(0.6, 0.5, 'tem_conta <= 0.5\\nentropy = 0.722\\nsamples = 5\\nvalue = [1, 4]\\nclass = 0'),\n",
       " Text(0.4, 0.16666666666666666, 'entropy = 1.0\\nsamples = 2\\nvalue = [1, 1]\\nclass = 1'),\n",
       " Text(0.8, 0.16666666666666666, 'entropy = 0.0\\nsamples = 3\\nvalue = [0, 3]\\nclass = 0')]"
      ]
     },
     "execution_count": 26,
     "metadata": {},
     "output_type": "execute_result"
    },
    {
     "data": {
      "image/png": "[encoded data removed]",
      "text/plain": [
       "<Figure size 432x288 with 1 Axes>"
      ]
     },
     "metadata": {
      "needs_background": "light"
     },
     "output_type": "display_data"
    }
   ],
   "source": [
    "# Plotagem da árvore\n",
    "clf = results[2].clf\n",
    "f_names = teste_x.columns\n",
    "c_names = teste_y.unique().astype(str)\n",
    "print(f_names, c_names)\n",
    "tree.plot_tree(clf, feature_names=f_names,class_names=c_names, filled=True)"
   ]
  },
  {
   "cell_type": "code",
   "execution_count": 27,
   "metadata": {},
   "outputs": [
    {
     "data": {
      "image/png": "[encoded data removed]",
      "text/plain": [
       "<Figure size 432x288 with 2 Axes>"
      ]
     },
     "metadata": {
      "needs_background": "light"
     },
     "output_type": "display_data"
    }
   ],
   "source": [
    "# Matriz de confusão\n",
    "from sklearn.metrics import confusion_matrix, ConfusionMatrixDisplay\n",
    "predictions = clf.predict(teste_x);\n",
    "cm = confusion_matrix(teste_y, predictions, labels=clf.classes_)\n",
    "disp = ConfusionMatrixDisplay(confusion_matrix=cm,display_labels=clf.classes_)\n",
    "disp.plot()\n",
    "plt.show()"
   ]
  },
  {
   "cell_type": "code",
   "execution_count": 31,
   "metadata": {},
   "outputs": [
    {
     "data": {
      "text/plain": [
       "array([0])"
      ]
     },
     "execution_count": 31,
     "metadata": {},
     "output_type": "execute_result"
    }
   ],
   "source": [
    "# Testando para uma entrada específica:\n",
    "W_test = pd.DataFrame({'montante': [0], 'idade': [2], 'salario': [0], 'tem_conta': [1]})\n",
    "y_pred = clf.predict(W_test)\n",
    "y_pred"
   ]
  }
 ],
 "metadata": {
  "interpreter": {
   "hash": "916dbcbb3f70747c44a77c7bcd40155683ae19c65e1c03b4aa3499c5328201f1"
  },
  "kernelspec": {
   "display_name": "Python 3.8.10 64-bit",
   "language": "python",
   "name": "python3"
  },
  "language_info": {
   "codemirror_mode": {
    "name": "ipython",
    "version": 3
   },
   "file_extension": ".py",
   "mimetype": "text/x-python",
   "name": "python",
   "nbconvert_exporter": "python",
   "pygments_lexer": "ipython3",
   "version": "3.8.10"
  },
  "orig_nbformat": 4
 },
 "nbformat": 4,
 "nbformat_minor": 2
}
